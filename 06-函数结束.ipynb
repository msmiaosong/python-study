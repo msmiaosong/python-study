{
 "cells": [
  {
   "cell_type": "markdown",
   "metadata": {},
   "source": [
    "# 四类参数\n",
    "- 普通该参数\n",
    "- 默认参数\n",
    "- 关键字参数\n",
    "- 收集参数\n",
    "\n",
    "## 关键字参数\n",
    "- 语法\n",
    "\n",
    "        def func(p1=v1,p2=v2...):\n",
    "            func_body\n",
    "            \n",
    "        调用函数:\n",
    "        func(p1=value1, p2=value2....)\n",
    "- 比较麻烦，但也有好处:\n",
    "    - 不容易混淆，一般实参和形参只是按照位置一一对应即可，容易出错\n",
    "    - 使用关键字参数，可以不考虑参数位置"
   ]
  },
  {
   "cell_type": "code",
   "execution_count": 2,
   "metadata": {},
   "outputs": [
    {
     "name": "stdout",
     "output_type": "stream",
     "text": [
      "i am a student\n",
      "我叫18，我今年jingjing岁，我住我家\n"
     ]
    }
   ],
   "source": [
    "#关键字参数案例\n",
    "def stu(name=\"no name\",age=0,addr=\"no name\"):\n",
    "    print(\"i am a student\")\n",
    "    print(\"我叫{0}，我今年{1}岁，我住{2}\".format(name,age,addr))\n",
    "\n",
    "\n",
    "#拍如同参数，只按照位置传递，容易出错\n",
    "stu(a,n,addr)"
   ]
  },
  {
   "cell_type": "code",
   "execution_count": 8,
   "metadata": {},
   "outputs": [
    {
     "name": "stdout",
     "output_type": "stream",
     "text": [
      "i am a student\n",
      "我叫jingjing，我今年18岁，我住我家\n"
     ]
    }
   ],
   "source": [
    "def stu_key(name=\"no name\",age=0,addr=\"no name\"):\n",
    "    print(\"i am a student\")\n",
    "    print(\"我叫{0}，我今年{1}岁，我住{2}\".format(name,age,addr))\n",
    "\n",
    "\n",
    "#拍如同参数，只按照位置传递，容易出错\n",
    "stu_key(name=n,age=a,addr=addr)"
   ]
  },
  {
   "cell_type": "markdown",
   "metadata": {},
   "source": [
    "## 收集参数\n",
    "- 把没有位置，不能和定义时的参数位置相对应的参数，放入一个特定的数据结构中\n",
    "- 语法\n",
    "        \n",
    "        def func(*args):\n",
    "            func_body\n",
    "            按照List方式访问args得到传入的参数\n",
    "        调用:\n",
    "        func(p1, p2, p3,....)\n",
    "- 参数名args不是必须这么写，但是，我们推荐直接用args，约定俗成\n",
    "- 参数名args前需要由星号\n",
    "- 收集参数可以和其他桉树共存\n"
   ]
  },
  {
   "cell_type": "code",
   "execution_count": 12,
   "metadata": {},
   "outputs": [
    {
     "name": "stdout",
     "output_type": "stream",
     "text": [
      "hello 大家好\n",
      "<class 'tuple'>\n",
      "liuying\n",
      "18\n",
      "北京大通\n",
      "王晓静\n",
      "single\n",
      "hello 大家好\n",
      "<class 'tuple'>\n",
      "周\n"
     ]
    }
   ],
   "source": [
    "#收集参数代码\n",
    "#函数模拟一个学生进行自我介绍，但具体内容不清楚\n",
    "#args把他看做一个list\n",
    "def stu( *args):\n",
    "    print(\"hello 大家好\")\n",
    "    #type函数作用是检测变量的类型\n",
    "    print(type(args))\n",
    "    for item in args:\n",
    "        print(item)\n",
    "\n",
    "\n",
    "stu(\"liuying\", 18 , \"北京大通\", \"王晓静\", \"single\")\n",
    "stu(\"周\")"
   ]
  },
  {
   "cell_type": "code",
   "execution_count": 15,
   "metadata": {},
   "outputs": [
    {
     "name": "stdout",
     "output_type": "stream",
     "text": [
      "hello 大家好\n",
      "<class 'tuple'>\n"
     ]
    }
   ],
   "source": [
    "#收集参数案例\n",
    "#说明收集参数可以不带任何实参调用，此时收集参数为空tuple\n",
    "stu()"
   ]
  },
  {
   "cell_type": "markdown",
   "metadata": {},
   "source": [
    "### 收集参数\n",
    "- 把关键字参数按字典格式存入收集参数\n",
    "- 语法:\n",
    "        \n",
    "        def func( **kwargs):\n",
    "            func_body\n",
    "            \n",
    "            \n",
    "        #调用:\n",
    "        func(p1=v1, p2=v2, p3=v3,....)\n",
    "- kwargs一般约定俗成\n",
    "- 调用的时候，把多余的关键字参数存入kwargs\n",
    "- 访问kwargs需要按照字典格式访问\n"
   ]
  },
  {
   "cell_type": "code",
   "execution_count": 21,
   "metadata": {},
   "outputs": [
    {
     "name": "stdout",
     "output_type": "stream",
     "text": [
      "<class 'dict'>\n",
      "name --- liuying\n",
      "age --- 19\n",
      "addr --- 北京\n",
      "lover --- wangxiaojing\n",
      "work --- teacher\n",
      "*********\n",
      "<class 'dict'>\n",
      "name --- zhou\n"
     ]
    }
   ],
   "source": [
    "def stu( **kwargs):\n",
    "    #在函数体内对于kwagrs的使用不用带星号\n",
    "    print(type(kwargs))\n",
    "    #对于字典的访问，python2和Python3有区别\n",
    "    for k,v in kwargs.items():\n",
    "        print(k, \"---\",v)\n",
    "\n",
    "stu(name=\"liuying\", age=19, addr =\"北京\", lover=\"wangxiaojing\", work=\"teacher\")\n",
    "print(\"*********\")\n",
    "\n",
    "stu(name=\"zhou\")\n"
   ]
  },
  {
   "cell_type": "markdown",
   "metadata": {},
   "source": [
    "### 收集参数混合调用的顺序问题\n",
    "- 收集参数，关键词参数，普通参数合一混合使用\n",
    "- 使用规则就是，普通参数和关键字参数优先\n",
    "- 定义的时候一般找普通参数，关键字参数，收集参数tuple，收集单数dict\n"
   ]
  },
  {
   "cell_type": "code",
   "execution_count": 32,
   "metadata": {},
   "outputs": [
    {
     "name": "stdout",
     "output_type": "stream",
     "text": [
      "hello dajia hao \n",
      "wo jiao liuying,wo jinnian 19\n",
      "wo de aihaoshiyouyong\n",
      "王晓静\n",
      "##############################\n",
      "hobby2 --- penren\n",
      "hobby3 --- bugennvsheng\n"
     ]
    }
   ],
   "source": [
    "# 收集参数混合调用案例\n",
    "# stu模拟一个学生的自我介绍\n",
    "def stu(name, age, *args, hobby=\"meiyou\",  **kwargs):\n",
    "    print(\"hello dajia hao \")\n",
    "    print(\"wo jiao {0},wo jinnian {1}\".format(name,age))\n",
    "    if hobby == \"meiyou\":\n",
    "        print(\"womeiyou\")\n",
    "    else:\n",
    "        print(\"wo de aihaoshi{0}\".format(hobby))\n",
    "    for i in args:\n",
    "        print(i)\n",
    "    print(\"#\"*30)\n",
    "    for k,v in kwargs.items():\n",
    "        print(k,\"---\",v)\n",
    "\n",
    "#开始调用\n",
    "name = \"liuying\"\n",
    "age = 19\n",
    "\n",
    "#stu(name,age)\n",
    "#stu(name, age, hobby=\"youyong\")\n",
    "stu(name, age, \"王晓静\", hobby=\"youyong\" ,hobby2=\"penren\",hobby3=\"bugennvsheng\")"
   ]
  },
  {
   "cell_type": "markdown",
   "metadata": {},
   "source": [
    "### 收集参数的解包问题\n",
    "- 把参数放入list中，直接吧list/dict中的值放入收集参数中\n",
    "- 语法：参看案例\n"
   ]
  },
  {
   "cell_type": "code",
   "execution_count": 34,
   "metadata": {},
   "outputs": [
    {
     "name": "stdout",
     "output_type": "stream",
     "text": [
      "hahaha\n",
      "['liuying', 20, 230]\n"
     ]
    }
   ],
   "source": [
    "#收集参数的解包问题\n",
    "\n",
    "def stu(*args):\n",
    "    print(\"hahaha\")\n",
    "    for i in args:\n",
    "        print(i)\n",
    "l = list()\n",
    "l.append(\"liuying\")\n",
    "l.append(20)\n",
    "l.append(230)\n",
    "\n",
    "stu(l)\n",
    "\n",
    "# 此时，args的表示形式是字典内一个list类型的元素，即arg= ([])"
   ]
  },
  {
   "cell_type": "markdown",
   "metadata": {},
   "source": [
    "# 函数文档\n",
    "- 函数的文档的作用是对当前函数提供相关的参考信息\n",
    "- 文档的写法:\n",
    "    - 在函数内部开始的第一行使用三字符串定义符\n",
    "    - 一般具有特定格式\n",
    "    - 参看案例\n",
    "- 文档查看\n",
    "    - 使用help函数，形如help(func)\n",
    "    - 使用doc"
   ]
  },
  {
   "cell_type": "code",
   "execution_count": 43,
   "metadata": {
    "collapsed": true
   },
   "outputs": [],
   "source": [
    "# 文档案例\n",
    "# 函数stu是模拟一个学生的自我介绍的内容\n",
    "# 使用__doc__ 参看案例\n",
    "def stu(name, age, *agrs):\n",
    "    '''\n",
    "    这是第一行\n",
    "    这是第二行\n",
    "    这是第三行\n",
    "    '''\n",
    "    print(\"this is hanshu stu\")"
   ]
  },
  {
   "cell_type": "code",
   "execution_count": 44,
   "metadata": {},
   "outputs": [
    {
     "name": "stdout",
     "output_type": "stream",
     "text": [
      "Help on function stu in module __main__:\n",
      "\n",
      "stu(name, age, *agrs)\n",
      "    这是第一行\n",
      "    这是第二行\n",
      "    这是第三行\n",
      "\n"
     ]
    },
    {
     "data": {
      "text/plain": [
       "'\\n    这是第一行\\n    这是第二行\\n    这是第三行\\n    '"
      ]
     },
     "execution_count": 44,
     "metadata": {},
     "output_type": "execute_result"
    }
   ],
   "source": [
    "#查看函数文档\n",
    "help(stu)\n",
    "stu.__doc__"
   ]
  },
  {
   "cell_type": "code",
   "execution_count": null,
   "metadata": {
    "collapsed": true
   },
   "outputs": [],
   "source": []
  }
 ],
 "metadata": {
  "kernelspec": {
   "display_name": "Python 3",
   "language": "python",
   "name": "python3"
  },
  "language_info": {
   "codemirror_mode": {
    "name": "ipython",
    "version": 3
   },
   "file_extension": ".py",
   "mimetype": "text/x-python",
   "name": "python",
   "nbconvert_exporter": "python",
   "pygments_lexer": "ipython3",
   "version": "3.6.3"
  }
 },
 "nbformat": 4,
 "nbformat_minor": 2
}
